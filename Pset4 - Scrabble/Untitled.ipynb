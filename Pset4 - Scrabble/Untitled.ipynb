{
 "cells": [
  {
   "cell_type": "code",
   "execution_count": 1,
   "metadata": {},
   "outputs": [],
   "source": [
    "def getFrequencyDict(sequence):\n",
    "    \"\"\"\n",
    "    Returns a dictionary where the keys are elements of the sequence\n",
    "    and the values are integer counts, for the number of times that\n",
    "    an element is repeated in the sequence.\n",
    "\n",
    "    sequence: string or list\n",
    "    return: dictionary\n",
    "    \"\"\"\n",
    "    # freqs: dictionary (element_type -> int)\n",
    "    freq = {}\n",
    "    for x in sequence:\n",
    "        freq[x] = freq.get(x, 0) + 1\n",
    "    return freq\n"
   ]
  },
  {
   "cell_type": "code",
   "execution_count": 2,
   "metadata": {},
   "outputs": [
    {
     "data": {
      "text/plain": [
       "{'b': 2, 'a': 1, 'm': 1, 'o': 2, 'z': 1, 'l': 1, 'e': 1}"
      ]
     },
     "execution_count": 2,
     "metadata": {},
     "output_type": "execute_result"
    }
   ],
   "source": [
    "getFrequencyDict('bamboozle')"
   ]
  },
  {
   "cell_type": "code",
   "execution_count": null,
   "metadata": {},
   "outputs": [],
   "source": []
  }
 ],
 "metadata": {
  "kernelspec": {
   "display_name": "Python 3",
   "language": "python",
   "name": "python3"
  },
  "language_info": {
   "codemirror_mode": {
    "name": "ipython",
    "version": 3
   },
   "file_extension": ".py",
   "mimetype": "text/x-python",
   "name": "python",
   "nbconvert_exporter": "python",
   "pygments_lexer": "ipython3",
   "version": "3.6.9"
  }
 },
 "nbformat": 4,
 "nbformat_minor": 4
}
